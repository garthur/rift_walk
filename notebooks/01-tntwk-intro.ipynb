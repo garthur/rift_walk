{
 "cells": [
  {
   "cell_type": "markdown",
   "metadata": {},
   "source": [
    "# Visualize an Initial Meta Temporal Network"
   ]
  },
  {
   "cell_type": "code",
   "execution_count": 1,
   "metadata": {},
   "outputs": [
    {
     "name": "stderr",
     "output_type": "stream",
     "text": [
      "C:\\Users\\graham\\Anaconda3\\envs\\rift_walk_env\\lib\\site-packages\\sklearn\\externals\\joblib\\__init__.py:15: DeprecationWarning: sklearn.externals.joblib is deprecated in 0.21 and will be removed in 0.23. Please import this functionality directly from joblib, which can be installed with: pip install joblib. If this warning is raised when loading pickled models, you may need to re-serialize those models with scikit-learn 0.21+.\n",
      "  warnings.warn(msg, category=DeprecationWarning)\n"
     ]
    }
   ],
   "source": [
    "# OPTIONAL: Load the \"autoreload\" extension so that code can change\n",
    "%load_ext autoreload\n",
    "\n",
    "# OPTIONAL: always reload modules so that as you change code in src, it gets loaded\n",
    "%autoreload 2\n",
    "\n",
    "import teneto\n",
    "import matplotlib.pyplot as plt\n",
    "plt.rcParams['figure.figsize'] = [10, 10]\n",
    "from src.data import meta_ingest\n",
    "from src.features import TTeneto"
   ]
  },
  {
   "cell_type": "markdown",
   "metadata": {},
   "source": [
    "## Data\n",
    "\n",
    "For this analysis, we will look at LCS data from the second split of 2017, and visualize the results as a temporal network with teneto."
   ]
  },
  {
   "cell_type": "code",
   "execution_count": 4,
   "metadata": {},
   "outputs": [],
   "source": [
    "subset = {\"league\":\"LCS\", \"split\":\"2017-2\", \"start_date\":\"2000-01-01\", \"end_date\":\"2030-01-01\", \"patchno\":\"None\"}\n",
    "info, node, edge = meta_ingest.fetch_oracle_data(subset)"
   ]
  },
  {
   "cell_type": "markdown",
   "metadata": {},
   "source": [
    "We can take a peek at the matches we've fetched by peeking at the info frame."
   ]
  },
  {
   "cell_type": "code",
   "execution_count": 5,
   "metadata": {},
   "outputs": [
    {
     "name": "stdout",
     "output_type": "stream",
     "text": [
      "+----------------+------+------+----------+----+-------+\n",
      "|          gameid|league| split| game_date|week|patchno|\n",
      "+----------------+------+------+----------+----+-------+\n",
      "|6501cfa833ea575b|   LCS|2017-2|2017-06-17| 3.2|   7.11|\n",
      "|b98e62c1bcc887e4|   LCS|2017-2|2017-06-02| 1.1|    7.1|\n",
      "|d5fd95a1a08ea3e5|   LCS|2017-2|2017-06-16| 3.1|   7.11|\n",
      "|cfd0e47c24bdd12d|   LCS|2017-2|2017-06-17| 3.2|   7.11|\n",
      "|53b99bfe75ae566a|   LCS|2017-2|2017-07-02| 5.3|   7.12|\n",
      "|4022de15e5cb3963|   LCS|2017-2|2017-06-04| 1.3|    7.1|\n",
      "|662ba98b48b8473b|   LCS|2017-2|2017-06-23| 4.1|   7.12|\n",
      "|b1b8f8c4ff5c58bb|   LCS|2017-2|2017-07-22| 7.2|   7.14|\n",
      "|d5dd6083ae02f463|   LCS|2017-2|2017-06-25| 4.3|   7.12|\n",
      "|9a20089e6f2d0143|   LCS|2017-2|2017-07-22| 7.2|   7.14|\n",
      "|58652ccc25bd00a8|   LCS|2017-2|2017-07-28| 8.1|   7.14|\n",
      "|e16475631dc9142e|   LCS|2017-2|2017-06-02| 1.1|    7.1|\n",
      "|4ab73925b54ae5e8|   LCS|2017-2|2017-06-03| 1.2|    7.1|\n",
      "|34a4dbf3eca0ea23|   LCS|2017-2|2017-06-18| 3.3|   7.11|\n",
      "|2f68dedea7a6cec5|   LCS|2017-2|2017-06-25| 4.3|   7.12|\n",
      "|28a28644c3802a05|   LCS|2017-2|2017-07-23| 7.3|   7.14|\n",
      "|8276d4d64d82356b|   LCS|2017-2|2017-06-24| 4.2|   7.12|\n",
      "|045dbf06e3d469c4|   LCS|2017-2|2017-07-30| 8.3|   7.14|\n",
      "|1148a4d5b066fd42|   LCS|2017-2|2017-06-18| 3.3|   7.11|\n",
      "|d092f17575d07ed8|   LCS|2017-2|2017-06-17| 3.2|   7.11|\n",
      "+----------------+------+------+----------+----+-------+\n",
      "only showing top 20 rows\n",
      "\n"
     ]
    }
   ],
   "source": [
    "info.show()"
   ]
  },
  {
   "cell_type": "markdown",
   "metadata": {},
   "source": [
    "As we can see, all of the games are from the LCS 2017 Summer Split. Let's take a look at some of the edges."
   ]
  },
  {
   "cell_type": "code",
   "execution_count": 6,
   "metadata": {},
   "outputs": [
    {
     "name": "stdout",
     "output_type": "stream",
     "text": [
      "+----------------+----------+------------+---------+\n",
      "|          gameid|   champ_a|     champ_b|link_type|\n",
      "+----------------+----------+------------+---------+\n",
      "|4a9b269abe5ea53a|  Renekton|Aurelion Sol|      ban|\n",
      "|f0f028000430051a|Tahm Kench|Aurelion Sol|      ban|\n",
      "|f0f028000430051a|Tahm Kench|     Caitlyn|      ban|\n",
      "|f0f028000430051a|Tahm Kench|  Cassiopeia|      ban|\n",
      "|f0f028000430051a|Tahm Kench|    Kassadin|      ban|\n",
      "|4a9b269abe5ea53a|  Renekton|      Kennen|      ban|\n",
      "|4a9b269abe5ea53a|  Renekton|     LeBlanc|      ban|\n",
      "|4a9b269abe5ea53a|  Renekton|        Gnar|      ban|\n",
      "|4a9b269abe5ea53a|  Renekton|      Thresh|      ban|\n",
      "|4a9b269abe5ea53a|   Rek'Sai|Aurelion Sol|      ban|\n",
      "|4a9b269abe5ea53a|   Rek'Sai|      Kennen|      ban|\n",
      "|4a9b269abe5ea53a|   Rek'Sai|     LeBlanc|      ban|\n",
      "|4a9b269abe5ea53a|   Rek'Sai|        Gnar|      ban|\n",
      "|4a9b269abe5ea53a|   Rek'Sai|      Thresh|      ban|\n",
      "|4a9b269abe5ea53a|     Corki|Aurelion Sol|      ban|\n",
      "|4a9b269abe5ea53a|     Corki|      Kennen|      ban|\n",
      "|4a9b269abe5ea53a|     Corki|     LeBlanc|      ban|\n",
      "|4a9b269abe5ea53a|     Corki|        Gnar|      ban|\n",
      "|4a9b269abe5ea53a|     Corki|      Thresh|      ban|\n",
      "|4a9b269abe5ea53a|   Caitlyn|Aurelion Sol|      ban|\n",
      "+----------------+----------+------------+---------+\n",
      "only showing top 20 rows\n",
      "\n"
     ]
    }
   ],
   "source": [
    "edge.show()"
   ]
  },
  {
   "cell_type": "markdown",
   "metadata": {},
   "source": [
    "Although this is not in any particular order, we can see that Syndra was banned against Lulu in the 13a00890a7f68869 game. This isn't useful to look at itself, but we can transform this into a temporal network for visualization."
   ]
  },
  {
   "cell_type": "markdown",
   "metadata": {},
   "source": [
    "## Temporal Network\n",
    "\n",
    "Lets try to make this a temporal network with __teneto__. For now, lets only look at champions that have been \"picked with\" each other, and we'll make this an unweighted, undirected network. "
   ]
  },
  {
   "cell_type": "code",
   "execution_count": 7,
   "metadata": {},
   "outputs": [],
   "source": [
    "t = TTeneto(info, edge, link_type=\"pkw\", weighted=False)"
   ]
  },
  {
   "cell_type": "code",
   "execution_count": 8,
   "metadata": {},
   "outputs": [
    {
     "data": {
      "text/plain": [
       "<matplotlib.axes._subplots.AxesSubplot at 0x19698ae8080>"
      ]
     },
     "execution_count": 8,
     "metadata": {},
     "output_type": "execute_result"
    }
   ],
   "source": [
    "%matplotlib qt\n",
    "t.plot(\"slice_plot\")"
   ]
  },
  {
   "cell_type": "markdown",
   "metadata": {},
   "source": [
    "A little messy, but at least we know it works!"
   ]
  },
  {
   "cell_type": "markdown",
   "metadata": {},
   "source": [
    "## Temporal Network Quantities\n",
    "\n",
    "Visualizing the temporal network does not immediately provide us with any insight. It may be more worth it to describe certain temporal network properties and have them serve as proxies for certain meta characteristics."
   ]
  },
  {
   "cell_type": "markdown",
   "metadata": {},
   "source": [
    "#### Topological Overlap\n",
    "\n",
    "The temporal correlation coefficient measures the average number of times that edges are changed for each node over the course of the network. This can give us an understanding of whether or not a meta is \"stale.\" If an edge persists for several days, then a champion pair is being picked day after day, which increases this temporal correlation coefficient."
   ]
  },
  {
   "cell_type": "code",
   "execution_count": 10,
   "metadata": {},
   "outputs": [
    {
     "data": {
      "text/plain": [
       "0.06039663871511679"
      ]
     },
     "execution_count": 10,
     "metadata": {},
     "output_type": "execute_result"
    }
   ],
   "source": [
    "teneto.networkmeasures.topological_overlap(t, calc=\"global\")"
   ]
  },
  {
   "cell_type": "markdown",
   "metadata": {},
   "source": [
    "This appears to be relatively low, suggesting that the meta shifts quite a bit day to day over the course of the split. But, we may want to do this calculation for each node, and determine which nodes contribute most or least to this temporal correlation."
   ]
  },
  {
   "cell_type": "code",
   "execution_count": null,
   "metadata": {},
   "outputs": [],
   "source": []
  }
 ],
 "metadata": {
  "kernelspec": {
   "display_name": "Python 3",
   "language": "python",
   "name": "python3"
  },
  "language_info": {
   "codemirror_mode": {
    "name": "ipython",
    "version": 3
   },
   "file_extension": ".py",
   "mimetype": "text/x-python",
   "name": "python",
   "nbconvert_exporter": "python",
   "pygments_lexer": "ipython3",
   "version": "3.6.8"
  }
 },
 "nbformat": 4,
 "nbformat_minor": 2
}
